{
  "nbformat": 4,
  "nbformat_minor": 0,
  "metadata": {
    "colab": {
      "provenance": []
    },
    "kernelspec": {
      "name": "python3",
      "display_name": "Python 3"
    },
    "language_info": {
      "name": "python"
    }
  },
  "cells": [
    {
      "cell_type": "code",
      "execution_count": null,
      "metadata": {
        "colab": {
          "base_uri": "https://localhost:8080/"
        },
        "id": "nvRtJ80leKWC",
        "outputId": "2314ab08-fb48-48f4-b086-14e941a0d435"
      },
      "outputs": [
        {
          "output_type": "stream",
          "name": "stdout",
          "text": [
            "masukan nama buahnya: apel\n",
            "detai dari buah: apel \n",
            "warna: merah\tbentuk: bulat\trasa: manis\t"
          ]
        }
      ],
      "source": [
        "#Soal 1\n",
        "#Disctionary isi dari \"Buah\"\n",
        "buah = {\n",
        "    'mangga': {\n",
        "        'warna': 'hijau',\n",
        "        'bentuk': 'oval',\n",
        "        'rasa': 'asam'\n",
        "    },\n",
        "    'pisang': {\n",
        "        'warna': 'kuning',\n",
        "        'bentuk': 'lonjong',\n",
        "        'rasa': 'manis'\n",
        "    },\n",
        "    'apel': {\n",
        "        'warna': 'merah',\n",
        "        'bentuk': 'bulat',\n",
        "        'rasa': 'manis'\n",
        "    }\n",
        "}\n",
        "\n",
        "#Fungsi untuk mengecek buah yang ada dalam dictionary diatas\n",
        "def mengecek (namabuah):\n",
        "  if namabuah in buah: #jika buah ada dalam dict, maka di print\n",
        "    print(f'detai dari buah: {namabuah} ')\n",
        "    for isi in buah[namabuah]:\n",
        "      print(f'{isi}: {buah[namabuah][isi]}', end= '\\t')\n",
        "  else: #jika buah tidak ada, maka akan print tidak ada\n",
        "    print(f\"Buah {namabuah} tidak ada.\")\n",
        "#fungsi input buah yang dicari oleh pengguna\n",
        "nama_buah = input(\"masukan nama buahnya: \")\n",
        "mengecek(nama_buah)"
      ]
    },
    {
      "cell_type": "code",
      "source": [
        "#Soal 2\n",
        "\n",
        "#Fungsi untuk mengecek kata lalu diperiksa panjangnya\n",
        "def cek(katakata):\n",
        "    if len(katakata) < 10: # Cek apakah panjang kata kurang dari 10\n",
        "        print(\"caba lagi masukkan teksnya\") # Jika ya, akan meminta pengguna untuk memasukkan teks lagi\n",
        "    else:\n",
        "        print(\"kata-kata dari indeks ke-5 sampai akhir:\") # Jika tidak, cetak kata dari indeks ke-5 hingga akhir\n",
        "        for i in range(5, len(katakata)):\n",
        "            print(katakata[i])\n",
        "\n",
        "#Fungsi untuk menginput kata-katanya oleh pengguna\n",
        "def input_katakata():\n",
        "    teks = input(\"masukkan teks yang terdiri dari 10 kata: \") # Meminta pengguna untuk memasukkan teks\n",
        "    katakata = teks.split() # Memecah teks menjadi kata-kata\n",
        "    cek(katakata) # Panggil fungsi pengecekan kata diatas untuk diperiksa panjang kata-katanya\n",
        "\n",
        "input_katakata()"
      ],
      "metadata": {
        "colab": {
          "base_uri": "https://localhost:8080/"
        },
        "id": "4wakr1XVn7F1",
        "outputId": "ddc53002-b580-4e68-e2bb-6009c2ef250a"
      },
      "execution_count": null,
      "outputs": [
        {
          "output_type": "stream",
          "name": "stdout",
          "text": [
            "masukkan teks yang terdiri dari 10 kata: saya suka makan rara saat rara menari diatas menara rafa\n",
            "kata-kata dari indeks ke-5 sampai akhir:\n",
            "rara\n",
            "menari\n",
            "diatas\n",
            "menara\n",
            "rafa\n"
          ]
        }
      ]
    },
    {
      "cell_type": "code",
      "source": [
        "def cek_golongan_darah(golongan_darah):\n",
        "    print(f\"Golongan darah Anda adalah: {golongan_darah}\") # Print golongan darah\n",
        "    golongan_darah = golongan_darah.upper() # Ubah golongan darah menjadi huruf besar\n",
        "    info_golongan_darah(golongan_darah) # Panggil fungsi info golongan darah\n",
        "\n",
        "def info_golongan_darah(golongan_darah): #def berisi info golongan darah dan detailnya\n",
        "    info = {\n",
        "        \"A\": {\n",
        "            \"plus\": \"Kuat\",\n",
        "            \"minus\": \"Alergian\"\n",
        "        },\n",
        "        \"B\": {\n",
        "            \"plus\": \"Gaul\",\n",
        "            \"minus\": \"Anemia\"\n",
        "        },\n",
        "        \"O\": {\n",
        "            \"plus\": \"Bisa donor darahnya ke semua gol darah\",\n",
        "            \"minus\": \"Infeksi\"\n",
        "        }\n",
        "    }\n",
        "\n",
        "    # Cetak informasi terkait golongan darah\n",
        "    print(\"Info golongan darah Anda adalah:\")\n",
        "    for plus, minus in info[golongan_darah].items():\n",
        "        print(f\" {plus}\")\n",
        "        if minus:\n",
        "            print(f\" {minus}\")\n",
        "\n",
        "def goldar():\n",
        "    golongan_darah = input(\"Masukkan golongan darah Anda: \") #Mmebuat pengguna memasukkan golongan darahnya\n",
        "    cek_golongan_darah(golongan_darah)\n",
        "\n",
        "goldar()"
      ],
      "metadata": {
        "colab": {
          "base_uri": "https://localhost:8080/"
        },
        "id": "bvWlf7WruVMW",
        "outputId": "947b7b2c-4621-4a51-cef5-f008461d4b81"
      },
      "execution_count": 1,
      "outputs": [
        {
          "output_type": "stream",
          "name": "stdout",
          "text": [
            "Masukkan golongan darah Anda: A\n",
            "Golongan darah Anda adalah: A\n",
            "Info golongan darah Anda adalah:\n",
            " plus\n",
            " Kuat\n",
            " minus\n",
            " Alergian\n"
          ]
        },
        {
          "output_type": "execute_result",
          "data": {
            "text/plain": [
              "6"
            ]
          },
          "metadata": {},
          "execution_count": 1
        }
      ]
    }
  ]
}